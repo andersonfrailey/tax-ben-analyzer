{
 "cells": [
  {
   "cell_type": "markdown",
   "metadata": {},
   "source": [
    "# Incorporating micro-feedback effects"
   ]
  },
  {
   "cell_type": "code",
   "execution_count": 1,
   "metadata": {
    "collapsed": false
   },
   "outputs": [],
   "source": [
    "import sys\n",
    "sys.path.append(\"../../\")\n",
    "import taxcalc\n",
    "from taxcalc import *\n",
    "import pandas as pd\n",
    "import numpy as np"
   ]
  },
  {
   "cell_type": "markdown",
   "metadata": {},
   "source": [
    "### Start by creating a Calculator for Plan X and a calculator for Plan Y. "
   ]
  },
  {
   "cell_type": "code",
   "execution_count": 2,
   "metadata": {
    "collapsed": false
   },
   "outputs": [
    {
     "name": "stdout",
     "output_type": "stream",
     "text": [
      "You loaded data for 2009.\n",
      "Your data have been extrapolated to 2013.\n",
      "You loaded data for 2009.\n",
      "Your data have been extrapolated to 2013.\n"
     ]
    },
    {
     "name": "stderr",
     "output_type": "stream",
     "text": [
      "/Users/psteinberg/anaconda/envs/webapp/lib/python2.7/site-packages/pandas/io/parsers.py:1170: DtypeWarning: Columns (204,205) have mixed types. Specify dtype option on import or set low_memory=False.\n",
      "  data = self._reader.read(nrows)\n"
     ]
    }
   ],
   "source": [
    "# Create a Records object for Plan X and Plan Y\n",
    "records_x = Records(\"../../puf.csv\")\n",
    "records_y = Records(\"../../puf.csv\")\n",
    "# Create a Parameters object for Plan X and Plan Y\n",
    "policy_x = Policy()\n",
    "policy_y = Policy()\n",
    "behavior_y = Behavior()\n",
    "\n",
    "# Create two Calculators\n",
    "calcX = Calculator(policy_x, records_x)\n",
    "calcY = Calculator(policy_y, records_y, behavior=behavior_y)\n"
   ]
  },
  {
   "cell_type": "markdown",
   "metadata": {},
   "source": [
    "### Increase the top marginal tax rate by 10 percentage points "
   ]
  },
  {
   "cell_type": "code",
   "execution_count": 4,
   "metadata": {
    "collapsed": false
   },
   "outputs": [
    {
     "name": "stdout",
     "output_type": "stream",
     "text": [
      "0.396\n",
      "0.496\n"
     ]
    }
   ],
   "source": [
    "# Modify the relevant parameter for the Plan-Y Calculator.\n",
    "reform = {2013: {\"_II_rt7\": [0.496]}}\n",
    "policy_y.implement_reform(reform)\n",
    "# Demonstrate that Plan X and Plan Y calculators are indeed different. \n",
    "print(calcX.policy.II_rt7)\n",
    "print(calcY.policy.II_rt7)"
   ]
  },
  {
   "cell_type": "markdown",
   "metadata": {},
   "source": [
    "### Update taxpayers' income to account for the rate hike with our behavioral effects calculator"
   ]
  },
  {
   "cell_type": "code",
   "execution_count": 5,
   "metadata": {
    "collapsed": false
   },
   "outputs": [],
   "source": [
    "# Call the behavioral effects calculator and create new Plan Y Calculator obects. \n",
    "behavior_y.update_behavior({2013: {'_BE_inc': [0.15], '_BE_sub': [0.4]}})\n",
    "calcY_behavior1 = behavior(calcX, calcY)\n",
    "behavior_y.update_behavior({2013: {'_BE_inc': [0.15], '_BE_sub': [0.5]}})\n",
    "calcY_behavior2 = behavior(calcX, calcY)\n",
    "behavior_y.update_behavior({2013: {'_BE_inc': [0.0], '_BE_sub': [0.4]}})\n",
    "calcY_behavior3 = behavior(calcX, calcY)                           "
   ]
  },
  {
   "cell_type": "code",
   "execution_count": 6,
   "metadata": {
    "collapsed": false
   },
   "outputs": [
    {
     "name": "stdout",
     "output_type": "stream",
     "text": [
      "32329002724\n",
      "31047019924.0\n",
      "30671634834.6\n",
      "30827462366.3\n"
     ]
    }
   ],
   "source": [
    "# Demonstrate that taxpayers' income was affected by the behavioral effects.\n",
    "print(calcY.records.e00200.sum())\n",
    "print(calcY_behavior1.records.e00200.sum())\n",
    "print(calcY_behavior2.records.e00200.sum())\n",
    "print(calcY_behavior3.records.e00200.sum())"
   ]
  },
  {
   "cell_type": "code",
   "execution_count": 7,
   "metadata": {
    "collapsed": false
   },
   "outputs": [
    {
     "name": "stdout",
     "output_type": "stream",
     "text": [
      "31480202328.8\n",
      "36096622590.6\n",
      "33957881240.1\n",
      "33349777977.8\n",
      "33609522097.7\n"
     ]
    }
   ],
   "source": [
    "# Demonstrate that total tax was affected by the behavioral effects. \n",
    "print(calcX.records._ospctax.sum())\n",
    "print(calcY.records._ospctax.sum())\n",
    "print(calcY_behavior1.records._ospctax.sum())\n",
    "print(calcY_behavior2.records._ospctax.sum())\n",
    "print(calcY_behavior3.records._ospctax.sum())"
   ]
  }
 ],
 "metadata": {
  "kernelspec": {
   "display_name": "Python 2",
   "language": "python",
   "name": "python2"
  },
  "language_info": {
   "codemirror_mode": {
    "name": "ipython",
    "version": 2
   },
   "file_extension": ".py",
   "mimetype": "text/x-python",
   "name": "python",
   "nbconvert_exporter": "python",
   "pygments_lexer": "ipython2",
   "version": "2.7.10"
  }
 },
 "nbformat": 4,
 "nbformat_minor": 0
}
